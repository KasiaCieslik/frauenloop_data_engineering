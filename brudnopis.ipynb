{
 "cells": [
  {
   "cell_type": "code",
   "execution_count": null,
   "metadata": {},
   "outputs": [],
   "source": [
    "class Employee:\n",
    "    def __init__(self,name,age,position,gender,hours,hour_rare):\n",
    "        self.name = name\n",
    "        self.age = age\n",
    "        self.position = position\n",
    "        self.gender = gender\n",
    "        self.hours = hours\n",
    "        self.hour_rare = hour_rare\n",
    "        \n",
    "    def __str__(self):\n",
    "        return 'Employee {} has {} € salary'.format(self.name,self.salary)\n",
    "    \n",
    "    def calculate_payroll(self):\n",
    "        return 'Employee {} has {} $ salary'.format(self.name,self.hours*self.hour_rare)\n",
    "    def __eq__(self,other):\n",
    "        return self.hours*self.hour_rare == other.hours*other.hour_rare"
   ]
  },
  {
   "cell_type": "code",
   "execution_count": null,
   "metadata": {},
   "outputs": [],
   "source": [
    "employee = Employee('Pitt', 31, 'Project Manager', 'Woman', 150,12)\n",
    "employee2 = Employee('Pitt', 31, 'Project Manager', 'Woman', 150,12)"
   ]
  },
  {
   "cell_type": "code",
   "execution_count": null,
   "metadata": {},
   "outputs": [],
   "source": [
    "employee  == employee2"
   ]
  },
  {
   "cell_type": "code",
   "execution_count": 58,
   "metadata": {},
   "outputs": [
    {
     "data": {
      "text/plain": [
       "\"In Colaaa we have 4 vowels which are ['o', 'a', 'a', 'a']\""
      ]
     },
     "execution_count": 58,
     "metadata": {},
     "output_type": "execute_result"
    }
   ],
   "source": [
    "\n",
    "class Soda:\n",
    "    def __init__(self, name, color, size):\n",
    "        self.name= name\n",
    "        self.color= color\n",
    "        self.size= size\n",
    "        \n",
    "    def __eq__(self, other):\n",
    "        if  self.size == other.size:\n",
    "            print('{} is the same size as {}'.format(self.size,other.size))\n",
    "            return True\n",
    "        else:\n",
    "            print('Sizes are diffrent')\n",
    "            return False\n",
    "        \n",
    "    def __lt__(self,other):\n",
    "        if self.size < other.size:\n",
    "            print( \"{} size is smaller than {} size\".format(self.name,other.name))\n",
    "            return True\n",
    "        else: \n",
    "            print( \"{} size is bigger than {} size\".format(self.name,other.name))\n",
    "            return False\n",
    "    \n",
    "    def vl(self):\n",
    "        vowels = ['a','e','u','o','i']\n",
    "        list_of_vowels_in_name = [x for x in self.name if x in vowels]\n",
    "        return 'In {} we have {} vowels which are {}'.format(self.name, len(list_of_vowels_in_name),list_of_vowels_in_name)\n",
    "    \n",
    "            \n",
    "        \n",
    "sprite = Soda('Sprite','White',0.5)\n",
    "cola = Soda('Colaaa','Black',0.7)\n",
    "\n"
   ]
  },
  {
   "cell_type": "code",
   "execution_count": null,
   "metadata": {},
   "outputs": [],
   "source": [
    "sprite.vl()\n",
    "cola.vl()"
   ]
  },
  {
   "cell_type": "code",
   "execution_count": 54,
   "metadata": {},
   "outputs": [
    {
     "name": "stdout",
     "output_type": "stream",
     "text": [
      "Cola size is bigger than Sprite size\n"
     ]
    },
    {
     "data": {
      "text/plain": [
       "False"
      ]
     },
     "execution_count": 54,
     "metadata": {},
     "output_type": "execute_result"
    }
   ],
   "source": [
    "cola < sprite"
   ]
  }
 ],
 "metadata": {
  "kernelspec": {
   "display_name": "Python 3",
   "language": "python",
   "name": "python3"
  },
  "language_info": {
   "codemirror_mode": {
    "name": "ipython",
    "version": 3
   },
   "file_extension": ".py",
   "mimetype": "text/x-python",
   "name": "python",
   "nbconvert_exporter": "python",
   "pygments_lexer": "ipython3",
   "version": "3.7.6"
  }
 },
 "nbformat": 4,
 "nbformat_minor": 4
}
