{
 "cells": [
  {
   "cell_type": "markdown",
   "metadata": {},
   "source": [
    "Hello Frauenloopians , \n",
    "\n",
    "Since we learned about the classes on monday we would like to do a movie database using classes . This would be something like movie data from imdb \n",
    "\n"
   ]
  },
  {
   "cell_type": "markdown",
   "metadata": {},
   "source": [
    "1. Create a class  movie that has the following attributes : if you are using python put this in ints own movie.py file.\n",
    "   \n",
    "Atrributes : \n",
    "title, year, director, rating, genres ,country\n",
    "   \n",
    "   \n",
    "Methods : \n",
    " __str__ method :ur movie name : director followed by year has to be shown. see example :\n",
    "                         titanic , James Cameron , 1997\n",
    "   \n",
    " __lt__ method :should show if the movie is made before another movie.\n",
    "   \n",
    " __gt__ method : if one movie is newer that the other movie.\n",
    " \n",
    " __eq__ method : if movie has the same director as the other.  \n",
    "   \n",
    " set_rate method : if the movie has no rating it should allow the user to set a rating.          "
   ]
  },
  {
   "cell_type": "markdown",
   "metadata": {},
   "source": [
    "2.Create a database for movies that has the following attributes :\n",
    "if you are using python put this in ints own databse.py file.\n",
    "\n",
    "    movie ( the above class)\n",
    "    movie_key or index ( it has to be updated everytime a movie being added or deleted)\n",
    "    \n",
    "    Methods :\n",
    "        add_movie ( adds a movie to database)\n",
    "        delete_movie\n",
    "        get_movie (using the index or movie_key) \n",
    "        get_movie (using any of attributes of movie such as title, year, director, rating, genres ,country)\n",
    "        get_best_movie(Gets the movies with rating four stars or higher)\n",
    "        \n",
    "        "
   ]
  },
  {
   "cell_type": "code",
   "execution_count": 2,
   "metadata": {},
   "outputs": [],
   "source": [
    "class Movie:\n",
    "    next_id = 0\n",
    "    def __init__(self,title, year, director, rating, genres ,country):\n",
    "        self.title = title\n",
    "        self.year = year\n",
    "        self.director = director\n",
    "        self.rating = rating\n",
    "        self.genres = genres\n",
    "        self.country = country\n",
    "        self.movie_id = Movie.next_id\n",
    "        self.__class__.next_id += 1\n",
    "    \n",
    "    def __str__(self):\n",
    "        return \"{},{},{}\".format(self.title,self.director,self.year)\n",
    "    def __lt__(self,other):\n",
    "\n",
    "        return self.year<other.year\n",
    "    def __gt__(self,other):\n",
    "        return self.year>other.year\n",
    "    def __eg__(self,other):\n",
    "        return self.director == other.director\n",
    "    \n",
    "    def set_rate(self):\n",
    "        \"\"\"\n",
    "         If rating is None, gives possibility to set up\n",
    "        \"\"\"\n",
    "        if self.rating == None:\n",
    "            a = float(input('please input a rate for {} '.format(self.title)))\n",
    "            self.rating = a\n",
    "\n",
    "    "
   ]
  },
  {
   "cell_type": "code",
   "execution_count": 3,
   "metadata": {},
   "outputs": [],
   "source": [
    "titanic = Movie('Titanic',1997,'James Cameron',7.8,'Drama','USA')\n",
    "avatar = Movie('Avatar',2009,'James Cameron',7.8,'Action','USA')\n",
    "mulan = Movie('Mulan',2020,'Niki Caro',None,'Action','UK')\n",
    "boys = Movie('The Boys',2019,'Eric Kripke',8.7,'Crime','UK')\n",
    "godfather = Movie('The Godfather',1972,'Francis Ford Coppola',9.1,'Action','USA')\n",
    "pulpfiction = Movie('Pulp Fiction',1994,'Quentin Tarantino',8.8,'Crime','USA')\n",
    "django = Movie('Diango Unchained',2012,'Quentin Tarantino',None,'Drama','USA')\n",
    "killbill = Movie('Kill Bill',2003,'Quentin Tarantino',8.1,'Crime','USA')\n",
    "joker = Movie('Joker',2019,'Todd Phillips',8.5,'Crime','UK')\n",
    "interstellar = Movie('Interstellar',2014,'Christopher Nolan',8.6,'Adventure','UK')\n"
   ]
  },
  {
   "cell_type": "code",
   "execution_count": 4,
   "metadata": {},
   "outputs": [],
   "source": [
    "class Database:\n",
    "    \"\"\"\n",
    "    Create database for movies from movie objects\n",
    "    \"\"\"\n",
    "\n",
    "    def __init__(self,movies=[]):\n",
    "        \"\"\"\n",
    "        \n",
    "        Parameters\n",
    "        ----------\n",
    "        movies: list with Movie objects\n",
    "\n",
    "        \"\"\" \n",
    "        self.movies = movies\n",
    "        \n",
    "    def __str__(self):\n",
    "        \"\"\"\n",
    "         Prints movie ID and title for movies in database,\n",
    "         every movie will be printed in a new line.\n",
    "         \n",
    "         Example:\n",
    "            0 Titanic\n",
    "            1 Avatar\n",
    "            2 Mulan\n",
    "            3 The Boys\n",
    "            4 The Godfather\n",
    "        \"\"\"\n",
    "        l =  []\n",
    "        for movie in self.movies:\n",
    "            l.append(str(movie.movie_id) +' ' +movie.title)\n",
    "        l_new_line = '\\n'.join(l)\n",
    "        return(l_new_line)\n",
    "        \n",
    "    def add_movie(self,title, year, director, rating, genres ,country):\n",
    "        \"\"\"\n",
    "         Checks if movie exist in database. If title doesn't exist a film will be added.\n",
    "         If film title exists but production year is diffrent film will be also added\n",
    "         \n",
    "         Parameters\n",
    "         ----------\n",
    "         title : str\n",
    "         year : int\n",
    "         director : str\n",
    "         rating : float\n",
    "         genres : str\n",
    "         country str\n",
    "        \"\"\"\n",
    "        \n",
    "        movies_with_same_name = [m for m in self.movies if m.title == title]\n",
    "        movie = None\n",
    "        if movies_with_same_name:\n",
    "            if movies_with_same_name[0].year != year:\n",
    "                movie = Movie(title, year, director, rating, genres ,country)\n",
    "            else:\n",
    "                return \"duplicated movie not adding\"\n",
    "        else:\n",
    "            movie = Movie(title, year, director, rating, genres ,country)\n",
    "            \n",
    "        if movie is not None:\n",
    "            self.movies.append(movie)\n",
    "            \n",
    "            \n",
    "    def delate_movie(self,index):\n",
    "        \"\"\"\n",
    "         Delete film with given index from database\n",
    "         \n",
    "         Parameters\n",
    "         ----------\n",
    "         index : int\n",
    "        \"\"\"\n",
    "        \n",
    "        for movie in self.movies:\n",
    "            if movie.movie_id == index:\n",
    "                print('{} will be delate'.format(movie.title))\n",
    "                return self.movies.pop(movie.movie_id)\n",
    "\n",
    "    def get_movie(self,index):\n",
    "        \"\"\"\n",
    "         Get movie from database \n",
    "         \n",
    "         Parameters\n",
    "         ----------\n",
    "         index : int\n",
    "        \"\"\"\n",
    "        for movie in self.movies:\n",
    "            if movie.movie_id == index:\n",
    "                return 'Title: {}, year: {}, director: {}, rating: {}, genres: {}, country: {}'.format(movie.title, movie.year, movie.director, movie.rating, movie.genres ,movie.country)\n",
    "\n",
    "    def get_movies(self,title=None, year=None, director=None, rating=None, genres=None ,country=None):\n",
    "        \"\"\"\n",
    "         Returns films which match any of: director, rating,country\n",
    "\n",
    "\n",
    "         Parameters\n",
    "         ----------\n",
    "         title : str\n",
    "         year : int\n",
    "         director : str\n",
    "         rating : float\n",
    "         genres : str\n",
    "         country str\n",
    "         \n",
    "         Returns\n",
    "         ----------\n",
    "         list\n",
    "        \"\"\"\n",
    "        movie_list = []\n",
    "        for movie in self.movies:\n",
    "            if movie.director == director or movie.rating == rating or movie.country == country:\n",
    "                movie_list.append(movie.title)\n",
    "        return movie_list\n",
    "        \n",
    "    def get_best_movie(self, stars):\n",
    "        \"\"\"\n",
    "         If rating for the film in None, please set a rating\n",
    "         Gets the movies with rating equal or above stars\n",
    "         \n",
    "         Parameters\n",
    "         ----------\n",
    "         stars : int\n",
    "        \n",
    "         Returns\n",
    "         ----------\n",
    "         list\n",
    "         \n",
    "        \"\"\"\n",
    "        for movie in self.movies:\n",
    "            if movie.rating == None:\n",
    "                movie.set_rate()\n",
    " \n",
    "        best_movie = [movie.title for movie in self.movies if movie.rating>=stars]\n",
    "        return best_movie"
   ]
  },
  {
   "cell_type": "code",
   "execution_count": 5,
   "metadata": {},
   "outputs": [],
   "source": [
    "a = Database([titanic,avatar,mulan,boys,godfather,pulpfiction,django,killbill,joker,interstellar])"
   ]
  },
  {
   "cell_type": "code",
   "execution_count": 10,
   "metadata": {},
   "outputs": [
    {
     "name": "stdout",
     "output_type": "stream",
     "text": [
      "0 Titanic\n",
      "1 Avatar\n",
      "2 Mulan\n",
      "3 The Boys\n",
      "4 The Godfather\n",
      "5 Pulp Fiction\n",
      "6 Diango Unchained\n",
      "7 Kill Bill\n",
      "8 Joker\n",
      "9 Interstellar\n",
      "10 Tita\n"
     ]
    }
   ],
   "source": [
    "print(a)"
   ]
  },
  {
   "cell_type": "code",
   "execution_count": 9,
   "metadata": {},
   "outputs": [],
   "source": [
    "a.add_movie('Tita',1997,'James Cameron',7.8,'Drama','USA')\n"
   ]
  },
  {
   "cell_type": "code",
   "execution_count": 20,
   "metadata": {},
   "outputs": [
    {
     "name": "stdout",
     "output_type": "stream",
     "text": [
      "0 Titanic\n",
      "1 Avatar\n",
      "2 Mulan\n",
      "3 The Boys\n",
      "4 The Godfather\n",
      "5 Pulp Fiction\n",
      "6 Diango Unchained\n",
      "7 Kill Bill\n",
      "8 Joker\n",
      "9 Interstellar\n"
     ]
    }
   ],
   "source": [
    "a = Database([titanic,avatar,mulan,boys,godfather,pulpfiction,django,killbill,joker,interstellar])\n",
    "a.get_best_movie(9)\n",
    "print(a)"
   ]
  },
  {
   "cell_type": "markdown",
   "metadata": {},
   "source": [
    "Choose your 10 fav movies and add them to the database :\n",
    "    A list of movies can be found at :\n",
    "        https://gist.github.com/tiangechen/b68782efa49a16edaf07dc2cdaa855ea\n",
    "\n"
   ]
  },
  {
   "cell_type": "markdown",
   "metadata": {},
   "source": [
    "Deadline as last time sunday at midnight. You can submit your python files\n",
    "and/or jupyter files to canvas. "
   ]
  }
 ],
 "metadata": {
  "kernelspec": {
   "display_name": "Python 3",
   "language": "python",
   "name": "python3"
  },
  "language_info": {
   "codemirror_mode": {
    "name": "ipython",
    "version": 3
   },
   "file_extension": ".py",
   "mimetype": "text/x-python",
   "name": "python",
   "nbconvert_exporter": "python",
   "pygments_lexer": "ipython3",
   "version": "3.7.6"
  }
 },
 "nbformat": 4,
 "nbformat_minor": 2
}
