{
 "cells": [
  {
   "cell_type": "code",
   "execution_count": 1,
   "metadata": {},
   "outputs": [],
   "source": [
    "class Soda:\n",
    "    def __init__(self, name, color, size):\n",
    "        self.name= name\n",
    "        self.color= color\n",
    "        self.size= size\n",
    "        \n",
    "    def __eq__(self, other):\n",
    "        if  self.size == other.size:\n",
    "            print('{} is the same size as {}'.format(self.size,other.size))\n",
    "            return True\n",
    "        else:\n",
    "            print('Sizes are diffrent')\n",
    "            return False\n",
    "        \n",
    "    def __lt__(self,other):\n",
    "        if self.size < other.size:\n",
    "            print( \"{} size is smaller than {} size\".format(self.name,other.name))\n",
    "            return True\n",
    "        else: \n",
    "            print( \"{} size is bigger than {} size\".format(self.name,other.name))\n",
    "            return False\n",
    "    \n",
    "    def vl(self):\n",
    "        vowels = ['a','e','u','o','i']\n",
    "        list_of_vowels_in_name = [x for x in self.name if x in vowels]\n",
    "        return 'In {} we have {} vowels which are {}'.format(self.name, len(list_of_vowels_in_name),list_of_vowels_in_name)\n",
    "    \n",
    "            \n",
    "        \n",
    "sprite = Soda('Sprite','White',0.5)\n",
    "cola = Soda('Colaaa','Black',0.7)\n"
   ]
  },
  {
   "cell_type": "code",
   "execution_count": 2,
   "metadata": {},
   "outputs": [
    {
     "data": {
      "text/plain": [
       "\"In Colaaa we have 4 vowels which are ['o', 'a', 'a', 'a']\""
      ]
     },
     "execution_count": 2,
     "metadata": {},
     "output_type": "execute_result"
    }
   ],
   "source": [
    "sprite.vl()\n",
    "cola.vl()"
   ]
  },
  {
   "cell_type": "code",
   "execution_count": 3,
   "metadata": {},
   "outputs": [
    {
     "name": "stdout",
     "output_type": "stream",
     "text": [
      "Colaaa size is bigger than Sprite size\n"
     ]
    },
    {
     "data": {
      "text/plain": [
       "False"
      ]
     },
     "execution_count": 3,
     "metadata": {},
     "output_type": "execute_result"
    }
   ],
   "source": [
    "cola < sprite"
   ]
  }
 ],
 "metadata": {
  "kernelspec": {
   "display_name": "Python 3",
   "language": "python",
   "name": "python3"
  },
  "language_info": {
   "codemirror_mode": {
    "name": "ipython",
    "version": 3
   },
   "file_extension": ".py",
   "mimetype": "text/x-python",
   "name": "python",
   "nbconvert_exporter": "python",
   "pygments_lexer": "ipython3",
   "version": "3.7.6"
  }
 },
 "nbformat": 4,
 "nbformat_minor": 4
}
