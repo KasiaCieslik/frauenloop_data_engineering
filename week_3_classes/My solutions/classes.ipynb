{
 "cells": [
  {
   "cell_type": "code",
   "execution_count": 17,
   "metadata": {},
   "outputs": [],
   "source": [
    "class Author:\n",
    "    next_id = 0\n",
    "    def __init__(self,given_name = None, family_name = None,Age=None):\n",
    "        self.given_name = given_name\n",
    "        self.family_name = family_name\n",
    "        self.__class__.next_id +=1\n",
    "        self.Age = Age\n",
    "    \n",
    "    def __str__(self):\n",
    "        return (('{},{}').format(self.family_name,self.given_name[0]))\n",
    "    \n",
    "    def bib_format(self):\n",
    "        return (('{},{}xx').format(self.family_name,self.given_name[0]))\n",
    "    def __add__(self,other):\n",
    "        return (self.Age+other.Age)"
   ]
  },
  {
   "cell_type": "code",
   "execution_count": 20,
   "metadata": {},
   "outputs": [],
   "source": [
    "a = Author(\"Kasia\",\"Cieslik\",30)\n",
    "b = Author(\"Kasia\",\"Cieslik\",20)"
   ]
  },
  {
   "cell_type": "code",
   "execution_count": 21,
   "metadata": {},
   "outputs": [
    {
     "data": {
      "text/plain": [
       "50"
      ]
     },
     "execution_count": 21,
     "metadata": {},
     "output_type": "execute_result"
    }
   ],
   "source": [
    "a+b"
   ]
  },
  {
   "cell_type": "code",
   "execution_count": 26,
   "metadata": {},
   "outputs": [],
   "source": [
    "class Point:\n",
    "    def __init__(self, x =0.0, y = 0.0):\n",
    "        self.x = x\n",
    "        self.y = y\n",
    "    def __str__(self):\n",
    "        return ('{},{}'.format(self.x,self.y))\n",
    "    def __it__(self,other):\n",
    "        t1=(self.x,self.y)\n",
    "        t2=(other.x,other.y)\n",
    "        return(t1<t2)\n",
    "    def __gt__(self,other):\n",
    "        return(other<self)\n",
    "    def __eg__(self,other):\n",
    "        return(self.x == other.x and self.y == other.y)\n",
    "\n",
    "            "
   ]
  },
  {
   "cell_type": "code",
   "execution_count": 49,
   "metadata": {},
   "outputs": [],
   "source": [
    "class Animal:\n",
    "    def __init__(self,name,color,legs,say):\n",
    "        self.name = name\n",
    "        self.color = color\n",
    "        self.legs = legs\n",
    "        self.say = say\n",
    "    def __eg__(self,other):\n",
    "        if self.color == other.color & other.legs == self.legs & other.name == self.name:\n",
    "            print('{},{} are the same'.format(self.name,other.name))\n",
    "        else:\n",
    "            print('{},{} are diffrent'.format(self.name,other.name))\n",
    "    def what_say(self):\n",
    "        return('{} says {}'.format(self.name,self.say))"
   ]
  },
  {
   "cell_type": "code",
   "execution_count": 50,
   "metadata": {},
   "outputs": [
    {
     "data": {
      "text/plain": [
       "False"
      ]
     },
     "execution_count": 50,
     "metadata": {},
     "output_type": "execute_result"
    }
   ],
   "source": [
    "a = Animal('Cow',\"Red\",4,'muu')\n",
    "b = Animal('Dog',\"Red\",4,'hau')\n",
    "a == b"
   ]
  },
  {
   "cell_type": "code",
   "execution_count": null,
   "metadata": {},
   "outputs": [],
   "source": [
    "class Zoo:\n",
    "    def __init__(self, animal = None, color = None, number_of_legs = None):\n",
    "        self.animal_name = animal\n",
    "        self.color = color\n",
    "        self.n_legs = number_of_legs\n",
    "​\n",
    "    def breed(self, other):\n",
    "        return self.animal_name == other.animal_name\n",
    "​\n",
    "    def color(self, other):\n",
    "        return self.color == other.color\n",
    "​\n",
    "    def number_of_legs(self, other):\n",
    "        return self.n_legs == other.n_legs\n",
    "    \n",
    "    def __eq__(self, other):\n",
    "        return (self.animal_name == other.animal_name and self.color == other.color and self.n_legs == other.n_legs)\n",
    "​\n",
    "​\n",
    "tiger = Zoo(\"Tiger\", \"Orange\", \"4\")\n",
    "cats = Zoo(\"Cat\", \"Orange\", \"4\")\n",
    "​\n",
    "# Tests\n",
    "print(tiger.breed(cats))\n",
    "tiger == cats"
   ]
  }
 ],
 "metadata": {
  "kernelspec": {
   "display_name": "Python 3",
   "language": "python",
   "name": "python3"
  },
  "language_info": {
   "codemirror_mode": {
    "name": "ipython",
    "version": 3
   },
   "file_extension": ".py",
   "mimetype": "text/x-python",
   "name": "python",
   "nbconvert_exporter": "python",
   "pygments_lexer": "ipython3",
   "version": "3.7.6"
  }
 },
 "nbformat": 4,
 "nbformat_minor": 4
}
