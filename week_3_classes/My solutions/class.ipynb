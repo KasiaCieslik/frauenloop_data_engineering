{
 "cells": [
  {
   "cell_type": "code",
   "execution_count": 1,
   "metadata": {
    "collapsed": true
   },
   "outputs": [],
   "source": [
    "#https://realpython.com/inheritance-composition-python/\n",
    "class Employee:\n",
    "    def __init__(self,id,name):\n",
    "        selfname = name\n",
    "        self.id = id"
   ]
  },
  {
   "cell_type": "code",
   "execution_count": 5,
   "metadata": {
    "collapsed": true
   },
   "outputs": [],
   "source": [
    "a = Employee(0,'Marc')\n",
    "b = Employee(1,'Ola')"
   ]
  },
  {
   "cell_type": "code",
   "execution_count": 15,
   "metadata": {},
   "outputs": [],
   "source": [
    "class SalaryEmployee(Employee):\n",
    "    def __init__(self,id,name,salary):\n",
    "        super().__init__(id,name)\n",
    "        self.salary = salary\n",
    "    def calculate_payroll(self):\n",
    "        return self.salary\n",
    "    \n",
    "class HouryEmployee(Employee):\n",
    "    def __init__(self,id,name,hours,hour_rare):\n",
    "        super().__init__(id,name)\n",
    "        self.hours = hours\n",
    "        self.hour_rare = hour_rare\n",
    "    def calculate_payroll(self):\n",
    "        return self.hours*self.hour_rare\n",
    "class CommisionEmployee(SalaryEmployee):\n",
    "    def __init__(self,id,name,salary,commision):\n",
    "        super().__init__(id,name,salary)\n",
    "        self.commision = commision\n",
    "    def calculate_payroll(self):\n",
    "        fixed = super().calculate_payroll()\n",
    "        return fixed + self.commision"
   ]
  },
  {
   "cell_type": "code",
   "execution_count": 18,
   "metadata": {},
   "outputs": [],
   "source": [
    "salary_employee = SalaryEmployee(1, 'John Smith', 1500)\n",
    "hourly_employee = HouryEmployee(2, 'Jane Doe', 40, 15)\n",
    "commission_employee = CommisionEmployee(3, 'Kevin Bacon', 1000, 250)\n",
    "class HR:\n",
    "    def Payroll(employees):\n",
    "        for emp in employees:\n",
    "            print(emp.calculate_payroll())\n",
    "            "
   ]
  },
  {
   "cell_type": "code",
   "execution_count": 19,
   "metadata": {},
   "outputs": [
    {
     "name": "stdout",
     "output_type": "stream",
     "text": [
      "1500\n",
      "600\n"
     ]
    }
   ],
   "source": [
    "HR.Payroll([salary_employee,hourly_employee])"
   ]
  }
 ],
 "metadata": {
  "kernelspec": {
   "display_name": "Python 3",
   "language": "python",
   "name": "python3"
  },
  "language_info": {
   "codemirror_mode": {
    "name": "ipython",
    "version": 3
   },
   "file_extension": ".py",
   "mimetype": "text/x-python",
   "name": "python",
   "nbconvert_exporter": "python",
   "pygments_lexer": "ipython3",
   "version": "3.7.6"
  }
 },
 "nbformat": 4,
 "nbformat_minor": 2
}
