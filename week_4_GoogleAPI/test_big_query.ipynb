{
 "cells": [
  {
   "cell_type": "code",
   "execution_count": 40,
   "metadata": {},
   "outputs": [],
   "source": [
    "#%%writefile test_big_query.py\n",
    "from bigquery import AustinCrime\n",
    "from unittest import mock\n",
    "import pytest\n",
    "import pandas as pd\n",
    "import numpy as np\n",
    "import matplotlib.pyplot as plt\n",
    "import matplotlib\n",
    "\n",
    "\n",
    "test_df_clean_data = pd.DataFrame({'x1':[0,1,2,3,4],'location':[2,3,4,np.nan,6]})\n",
    "def test_clean_data():\n",
    "    \"\"\"Testing which index will be drop from dataframe\"\"\"\n",
    "    original_index = set(test_df_clean_data.index)\n",
    "    clean_df = AustinCrime.clean_data(test_df_clean_data)\n",
    "    clean_index = set(clean_df.index)\n",
    "    assert (set(test_df_clean_data.index)- set(clean_df.index)) == {3}\n",
    "    \n",
    "test_df_clean_data1 = pd.DataFrame({'x1':[0,1,2,3,4],'location':[2,3,4,0,6]})\n",
    "def test_clean_data_no_null():\n",
    "    \"\"\"Testinf if df before and after clean_data is the same\"\"\"\n",
    "    clean_df = AustinCrime.clean_data(test_df_clean_data1)\n",
    "    \n",
    "    assert test_df_clean_data1.equals(clean_df)\n",
    "    \n",
    "test_df_clean_data2 = pd.DataFrame({'x1':[0,1,2,3,4],'loc':[2,3,np.nan,0,6]})\n",
    "def test_clean_data_no_column():\n",
    "    \"\"\"Testing df without column location\"\"\"\n",
    "    with pytest.raises(AttributeError):\n",
    "        clean_df = AustinCrime.clean_data(test_df_clean_data2)\n",
    "\n",
    "\n",
    "def test_popular_crime():\n",
    "    \"\"\"\n",
    "    Read df form pickle\n",
    "    In mock.patch output of read_data_from_big_query is set\n",
    "    Test type of object\n",
    "    \"\"\"\n",
    "    test_df = pd.read_pickle('test_df.pickle')\n",
    "    with mock.patch('bigquery.AustinCrime.read_data_from_big_query', return_value=test_df):\n",
    "        obj = AustinCrime('SELECT test')\n",
    "        obj.popular_crime()\n",
    "        plot_test = plt.gca()\n",
    "        assert isinstance(plot_test,plt.Axes)\n",
    "\n",
    "    "
   ]
  }
 ],
 "metadata": {
  "kernelspec": {
   "display_name": "Python 3",
   "language": "python",
   "name": "python3"
  },
  "language_info": {
   "codemirror_mode": {
    "name": "ipython",
    "version": 3
   },
   "file_extension": ".py",
   "mimetype": "text/x-python",
   "name": "python",
   "nbconvert_exporter": "python",
   "pygments_lexer": "ipython3",
   "version": "3.7.6"
  }
 },
 "nbformat": 4,
 "nbformat_minor": 4
}
