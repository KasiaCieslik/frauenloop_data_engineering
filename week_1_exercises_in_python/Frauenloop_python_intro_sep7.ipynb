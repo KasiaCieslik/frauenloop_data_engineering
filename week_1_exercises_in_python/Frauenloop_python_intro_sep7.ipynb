{
 "cells": [
  {
   "cell_type": "code",
   "execution_count": 1,
   "metadata": {},
   "outputs": [],
   "source": [
    "import pandas as pd\n",
    "import csv\n",
    "from statistics import median, mean\n",
    "from csv import writer\n",
    "import numpy as np \n",
    "from shutil import copyfile"
   ]
  },
  {
   "cell_type": "code",
   "execution_count": 5,
   "metadata": {},
   "outputs": [
    {
     "data": {
      "text/plain": [
       "[2, 10, 20]"
      ]
     },
     "execution_count": 5,
     "metadata": {},
     "output_type": "execute_result"
    }
   ],
   "source": [
    "my_list = [20 , 10 , 78 , 82,91 , 25, 2 ,13]\n",
    "\n",
    "sorted([x for x in my_list if (x < 25) & (x % 2 == 0) ])"
   ]
  },
  {
   "cell_type": "code",
   "execution_count": null,
   "metadata": {},
   "outputs": [],
   "source": [
    "i = 1\n",
    "while i<=8:\n",
    "    print('*'*i)\n",
    "    i+=1"
   ]
  },
  {
   "cell_type": "markdown",
   "metadata": {},
   "source": [
    "In class excersice :\n",
    "\n",
    "1. Read in the weights and heights and names from the data1.csv  ( for the sake of learning don't use pandas. Don't hate me :D)\n",
    "2. calculate the bmi and for each person and tell who has normal weight : bmi < 25 \n",
    "3. calculate mean height and weight .\n",
    "4. calculate the median weight and height.\n",
    "5. calculate the 25th percentile height and weight. ( first Quartile Q1) \n",
    "6. add your name and height and weight to the end of the file.save it to a new file.\n",
    "7. make all the code into function calls. \n",
    "8. Do the excersice using pandas. "
   ]
  },
  {
   "cell_type": "code",
   "execution_count": 11,
   "metadata": {},
   "outputs": [],
   "source": [
    "with open(\"Frauenloop_intro_python-master/data2.csv\",\"r\") as csvfile:\n",
    "    reader = csv.DictReader(csvfile)\n",
    "    l = []\n",
    "    for row in reader:\n",
    "    \n",
    "        l.append(dict(row))\n",
    "\n",
    "csvfile.close()\n",
    "        "
   ]
  },
  {
   "cell_type": "code",
   "execution_count": 13,
   "metadata": {},
   "outputs": [
    {
     "name": "stdout",
     "output_type": "stream",
     "text": [
      " Joe has NORMAL BMI which is 21.91\n",
      " Mary has NORMAL BMI which is 24.8\n",
      " Kayla has NORMAL BMI which is 22.41\n",
      " Jose has NORMAL BMI which is 22.17\n",
      " Sofia has NORMAL BMI which is 24.51\n",
      " Erik has NORMAL BMI which is 23.52\n"
     ]
    }
   ],
   "source": [
    "#calculate the bmi and for each person and tell who has normal weight : bmi < 25 \n",
    "normal = []\n",
    "for x in l:\n",
    "    BMI = round(float(x['Weight(kg)'])/(float(x['Height(m)']))**2,2)\n",
    "    if  BMI<25:\n",
    "        normal.append(x['Name'])\n",
    "        print('{} has NORMAL BMI which is {}'.format(x['Name'],BMI))\n",
    "    else:\n",
    "        continue\n",
    "\n",
    "\n",
    "    "
   ]
  },
  {
   "cell_type": "code",
   "execution_count": 14,
   "metadata": {},
   "outputs": [
    {
     "name": "stdout",
     "output_type": "stream",
     "text": [
      "Mean height is 1.75 m.\n",
      "Mean weight is 73.3025 kg.\n"
     ]
    }
   ],
   "source": [
    "#calculate mean height and weight \n",
    "weight_sum = 0\n",
    "height_sum = 0\n",
    "person = 0\n",
    "for x in l:\n",
    "    person += 1\n",
    "    height_sum += float(x['Height(m)'])\n",
    "    weight_sum += float(x['Weight(kg)'])\n",
    "print('Mean height is {} m.'.format(height_sum/person))\n",
    "print('Mean weight is {} kg.'.format(weight_sum/person))"
   ]
  },
  {
   "cell_type": "code",
   "execution_count": 15,
   "metadata": {},
   "outputs": [
    {
     "name": "stdout",
     "output_type": "stream",
     "text": [
      "Median height is 1.75 m.\n",
      "Median weight is 68.27 kg.\n"
     ]
    }
   ],
   "source": [
    "#calculate the median weight and height.\n",
    "\n",
    "weight = []\n",
    "height = []\n",
    "for x in l:\n",
    "    height.append(float(x['Height(m)']))\n",
    "    weight.append(float(x['Weight(kg)']))\n",
    "print('Median height is {} m.'.format(median(height)))\n",
    "print('Median weight is {} kg.'.format(round(median(weight),2)))"
   ]
  },
  {
   "cell_type": "code",
   "execution_count": 16,
   "metadata": {},
   "outputs": [
    {
     "name": "stdout",
     "output_type": "stream",
     "text": [
      "1.6225\n",
      "65.6075\n"
     ]
    }
   ],
   "source": [
    "#calculate the 25th percentile height and weight. ( first Quartile Q1)\n",
    "print(np.percentile(height, 25))\n",
    "print(np.percentile(weight, 25))"
   ]
  },
  {
   "cell_type": "code",
   "execution_count": 17,
   "metadata": {},
   "outputs": [],
   "source": [
    "#add your name and height and weight to the end of the file.save it to a new file.\n",
    "my_data = ['Kasia','1.7','54']\n",
    "\n",
    "copyfile(\"Frauenloop_intro_python-master/data2.csv\",\"Frauenloop_intro_python-master/data2_copy.csv\")\n",
    "def append_list_as_row(file_name_copy, list_of_elem):\n",
    "    # Open file in append mode\n",
    "    with open(file_name_copy ,'a') as rf:\n",
    "            # Create a writer object from csv module\n",
    "            rf.write('\\n')\n",
    "            csv_writer = writer(rf, lineterminator='\\n')\n",
    "            # Add contents of list as last row in the csv file\n",
    "            csv_writer.writerow(list_of_elem)\n",
    "append_list_as_row(\"Frauenloop_intro_python-master/data2_copy.csv\", my_data)"
   ]
  },
  {
   "cell_type": "code",
   "execution_count": 18,
   "metadata": {},
   "outputs": [],
   "source": [
    "#make all the code into function calls. \n",
    "with open('Frauenloop_intro_python-master/data2.csv') as txt:\n",
    "     l=txt.readlines()"
   ]
  },
  {
   "cell_type": "code",
   "execution_count": 19,
   "metadata": {},
   "outputs": [],
   "source": [
    "#Do the excersice using pandas.\n",
    "#1. Read in the weights and heights and names from the data1.csv \n",
    "  \n",
    "data = pd.read_csv(\"Frauenloop_intro_python-master/data2.csv\")\n",
    "\n",
    "  \n",
    "#2. calculate the bmi and for each person and tell who has normal weight : bmi < 25 \n",
    "\n",
    "data['BMI'] = data['Weight(kg)']/data['Height(m)']**2\n",
    "data['BMI_status'] = [\"Normal\" if row.BMI <25 else \"Not normal\" for i,row in data.iterrows()]\n",
    "#data.BMI.map(lambda x: \"Normal\" if x<25 else \"Not normal\")\n",
    "#data.loc[data.BMI < 25, 'BMINAME'] = 'Normal'\n",
    "\n",
    "#3. calculate mean height and weight .\n",
    "mean_height = data['Height(m)'].mean()\n",
    "mean_weight = data['Weight(kg)'].mean()\n",
    "#4. calculate the median weight and height.\n",
    "median_height = data['Height(m)'].median()\n",
    "median_weight = data['Weight(kg)'].median()\n",
    "#5. calculate the 25th percentile height and weight. ( first Quartile Q1) \n",
    "data['Height(m)'].quantile(0.25)\n",
    "data['Weight(kg)'].quantile(0.25)\n",
    "#6. add your name and height and weight to the end of the file.save it to a new file.\n",
    "data.loc[-1] = ['Kuba',1.95,75,75/1.95**2,'Normal' if 75/1.95**2<25 else 'Not normal']\n",
    " \n"
   ]
  }
 ],
 "metadata": {
  "kernelspec": {
   "display_name": "Python 3",
   "language": "python",
   "name": "python3"
  },
  "language_info": {
   "codemirror_mode": {
    "name": "ipython",
    "version": 3
   },
   "file_extension": ".py",
   "mimetype": "text/x-python",
   "name": "python",
   "nbconvert_exporter": "python",
   "pygments_lexer": "ipython3",
   "version": "3.7.6"
  }
 },
 "nbformat": 4,
 "nbformat_minor": 4
}
